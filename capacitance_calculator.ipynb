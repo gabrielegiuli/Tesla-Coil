{
 "cells": [
  {
   "cell_type": "code",
   "execution_count": null,
   "metadata": {},
   "outputs": [],
   "source": [
    "%matplotlib widget\n",
    "\n",
    "from IPython.display import Markdown\n",
    "import matplotlib.pyplot as plt\n",
    "from mpl_toolkits.mplot3d import axes3d\n",
    "import numpy as np\n",
    "from joblib import Parallel, delayed"
   ]
  },
  {
   "cell_type": "markdown",
   "metadata": {},
   "source": [
    "# Capacitance Calculator\n",
    "In this script we solve for the capacitance of the Tesla coil top-load, usually a toroidal capacitor that couples to the environment. To this end we write down Gauss' law for the electric field $\\vec{E}$ as\n",
    "$$\n",
    "\\nabla \\cdot \\vec{E} = \\frac{\\rho}{\\varepsilon_0\\varepsilon_r},\n",
    "$$\n",
    "where $\\rho$ is the charge density. Assuming absence of charges in free space, the euqation above reduces to\n",
    "$$\n",
    "\\nabla \\cdot \\vec{E} = 0.\n",
    "$$\n",
    "We can then introduce the electric potential $U$ that allows to write the electric field as \n",
    "$$\n",
    "\\vec{E} = - \\nabla U,\n",
    "$$\n",
    "and therefore equation 2 reduces to Laplace equation, namely\n",
    "$$\n",
    "\\nabla^2 U = \\frac{\\partial^2U}{\\partial x^2} + \\frac{\\partial^2U}{\\partial y^2} + \\frac{\\partial^2U}{\\partial z^2} = 0\n",
    "$$\n",
    "\n",
    "## Finite Differences\n",
    "We now use the \"finite differences\" method to solve for the laplace equation in three dimensions. To this end, we consider the definition of partial derivatives as\n",
    "\\begin{align}\n",
    "\\frac{\\partial U}{\\partial x} &= \\lim_{h \\to 0} \\frac{U(x + h, y, z) - U(x, y, z)}{h}, \\\\\n",
    "\\frac{\\partial U}{\\partial y} &= \\lim_{h \\to 0} \\frac{U(x, y + h, z) - U(x, y, z)}{h}, \\\\\n",
    "\\frac{\\partial U}{\\partial z} &= \\lim_{h \\to 0} \\frac{U(x, y, z + h) - U(x, y, z)}{h}.\n",
    "\\end{align}\n",
    "Similarly, considering another function $f(x,y,z)$, we can write its partial derivatives as\n",
    "\\begin{align}\n",
    "\\frac{\\partial f}{\\partial x} &= \\lim_{h \\to 0} \\frac{f(x, y, z) - f(x - h, y, z)}{h}, \\\\\n",
    "\\frac{\\partial f}{\\partial y} &= \\lim_{h \\to 0} \\frac{f(x, y, z) - f(x, y - h, z)}{h}, \\\\\n",
    "\\frac{\\partial f}{\\partial z} &= \\lim_{h \\to 0} \\frac{f(x, y, z) - f(x, y, z - h)}{h},\n",
    "\\end{align}\n",
    "where we assume $f$ to be derivable on the entirety of $\\mathbb{R}^3$. If we now let $f = \\partial_{x,y,z}U$ we obtain the following expressions:\n",
    "\\begin{align}\n",
    "\\frac{\\partial}{\\partial x}\\frac{\\partial U}{\\partial x} &= \\lim_{h \\to 0} \\frac{U(x + h, y, z) - 2U(x, y, z) + U(x - h, y, z)}{h^2}, \\\\ \n",
    "\\frac{\\partial}{\\partial y}\\frac{\\partial U}{\\partial x} &= \\lim_{h \\to 0} \\frac{U(x, y + h, z) - 2U(x, y, z) + U(x, y - h, z)}{h^2}, \\\\\n",
    "\\frac{\\partial}{\\partial z}\\frac{\\partial U}{\\partial x} &= \\lim_{h \\to 0} \\frac{U(x, y, z + h) - 2U(x, y, z) + U(x, y, z - h)}{h^2}.\n",
    "\\end{align}\n",
    "If we now discretize the domain over which we evaluate $U$ such that $U_{i,j,k} = U(ih, jh, kh)$ and relax the limit requirement on the definition of derivative we obtain\n",
    "\\begin{align} \n",
    "\\frac{\\partial^2U}{\\partial x^2} &\\approx \\frac{1}{h^2}\\left(U_{i+1,j,k} - 2U_{i,j,k} + U_{i-1,j,k}\\right), \\\\\n",
    "\\frac{\\partial^2U}{\\partial y^2} &\\approx \\frac{1}{h^2}\\left(U_{i,j+1,k} - 2U_{i,j,k} + U_{i,j-1,k}\\right), \\\\\n",
    "\\frac{\\partial^2U}{\\partial z^2} &\\approx \\frac{1}{h^2}\\left(U_{i,j,k+1} - 2U_{i,j,k} + U_{i,j,k-1}\\right). \\\\\n",
    "\\end{align}\n",
    "Finally, from the expression $\\nabla^2U = 0$ we get \n",
    "$$\n",
    "U_{i,j,k} = \\frac{1}{6}\\left(U_{i+1,j,k} + U_{i-1,j,k} + U_{i,j+1,k} + U_{i,j-1,k} + U_{i,j,k+1} + U_{i,j,k-1}\\right).\n",
    "$$\n",
    "In other words, each sample $U_{i,j,k}$ is the arithmetic average of its neighboring samples. This solution of the discretized Laplace equation allows for a multitude of solving methods."
   ]
  }
 ],
 "metadata": {
  "language_info": {
   "name": "python"
  }
 },
 "nbformat": 4,
 "nbformat_minor": 2
}
