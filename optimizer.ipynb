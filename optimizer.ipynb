{
 "cells": [
  {
   "cell_type": "code",
   "execution_count": 19,
   "metadata": {},
   "outputs": [],
   "source": [
    "import numpy as np \n",
    "import matplotlib.pyplot as plt \n",
    "from SALib.sample import saltelli\n",
    "from SALib.analyze import sobol\n",
    "from SALib.test_functions import Ishigami\n",
    "from tqdm.notebook import tnrange, tqdm_notebook\n",
    "from types import SimpleNamespace  "
   ]
  },
  {
   "cell_type": "code",
   "execution_count": 20,
   "metadata": {},
   "outputs": [],
   "source": [
    "class GGParamter:\n",
    "    \n",
    "    def __init__(self, intial_value):\n",
    "        self.value = intial_value\n",
    "        self.fixed = True\n",
    "        \n",
    "    def fix(self):\n",
    "        self.fix = True\n",
    "        return self\n",
    "        \n",
    "    def free(self):\n",
    "        self.fix = False\n",
    "        return self        \n",
    "        \n",
    "class GGDesignOptimizer:\n",
    "    \n",
    "    # Solver parameters\n",
    "    mu = 1e-3\n",
    "    h = 1e-5\n",
    "    \n",
    "    def __init__(self, parameters, reward_function):\n",
    "       self.parameters = parameters\n",
    "       self.reward_function = reward_function\n",
    "\n",
    "class CalculateReward:\n",
    "    \n",
    "    rho = 1.77e-8 # [Ohm / m]\n",
    "    \n",
    "    def __init__(self, start, end, samples):\n",
    "        freq = np.logspace(3, 7, 1000)  #[Hz]\n",
    "        self.omega = 2*np.pi*freq\n",
    "        \n",
    "    def Lp(self, dp): # [H]\n",
    "        rp      = dp['rp'].value    # External radius of flat spiral coil\n",
    "        Np      = dp['Np'].value    # Primary windings\n",
    "        return rp**2 * (Np/2)**2 / (9/4*Np + 10*rp)*10e-6\n",
    "    \n",
    "    def Ls(self, dp):\n",
    "        rs      = dp['rs'].value    # Radius of secondary coil winding\n",
    "        Ns      = dp['Ns'].value    # Secondary windings\n",
    "        r_ws    = dp['r_ws'].value  # Radius of secondary wire cross-section\n",
    "        \n",
    "        l = r_ws * 2 * Ns \n",
    "        return Ns**2 / l * np.pi * rs**2 * 4*np.pi*1e-7\n",
    "    \n",
    "    def Rs(self, dp):\n",
    "        r_ws    = dp['r_ws'].value  \n",
    "        rs      = dp['rs'].value\n",
    "        Ns      = dp['Ns'].value\n",
    "        \n",
    "        A = np.pi * r_ws**2\n",
    "        l = 2 * np.pi * rs * Ns \n",
    "        return self.rho * l / A\n",
    "    \n",
    "    def Rp(self, dp):\n",
    "        r_wp    = dp['r_wp'].value  # Radius of primary wire cross-section\n",
    "        rp      = dp['rp'].value    \n",
    "        Np      = dp['Np'].value\n",
    "        \n",
    "        A = np.pi * r_wp**2\n",
    "        l = np.pi * 2 * rp * np.sqrt(1 + (Np / (2 * np.pi)**2))\n",
    "        return self.rho * l / A\n",
    "    \n",
    "    def __tf2db(T):\n",
    "        return 20 * np.log10(np.abs(T))\n",
    "    \n",
    "    def evaluate_model(self, dp):\n",
    "        tf = self.get_tf(dp)\n",
    "        tf_db = self.__tf2db(tf)\n",
    "        return np.max(tf_db)\n",
    "\n",
    "    def get_tf(self, dp):\n",
    "        Lp = self.Lp(dp)\n",
    "        Ls = self.Ls(dp)\n",
    "        Rp = self.Rp(dp)\n",
    "        Rs = self.Rs(dp)\n",
    "        \n",
    "        Cp = dp['Cp'].value\n",
    "        Cs = dp['Cs'].value\n",
    "        k = 0.1\n",
    "        \n",
    "        def X_L(omega, L):\n",
    "            return 1j*omega*L \n",
    "\n",
    "        def X_C(omega,C):\n",
    "            return 1/(1j*omega*C)\n",
    "        \n",
    "        M = k*np.sqrt(Lp*Ls)\n",
    "        Zp_star = X_C(self.omega, Cp) + Rp + X_L(self.omega, (Lp - M))\n",
    "        Zs_star = Rs + X_L(self.omega, (Ls - M))\n",
    "        return 1/((Zp_star + X_L(self.omega, M)) /X_L(self.omega, M) * (1+X_L(self.omega, Cs)*(Zs_star + X_L(self.omega, M))) - ((1j*self.omega)**2)*Cs*M)\n",
    "\n"
   ]
  },
  {
   "cell_type": "code",
   "execution_count": 21,
   "metadata": {},
   "outputs": [
    {
     "data": {
      "text/plain": [
       "[<matplotlib.lines.Line2D at 0x17cf79890>]"
      ]
     },
     "execution_count": 21,
     "metadata": {},
     "output_type": "execute_result"
    },
    {
     "data": {
      "image/png": "[encoded data removed]",
      "text/plain": [
       "<Figure size 640x480 with 1 Axes>"
      ]
     },
     "metadata": {},
     "output_type": "display_data"
    }
   ],
   "source": [
    "design_parameters = {\n",
    "    'Np'    : GGParamter(10).free(),\n",
    "    'rp'    : GGParamter(0.2).free(),\n",
    "    'Ns'    : GGParamter(1000).free(),\n",
    "    'rs'    : GGParamter(0.05).free(),\n",
    "    'Cs'    : GGParamter(1e-12).free(),\n",
    "    'Cp'    : GGParamter(12e-5).free(),\n",
    "    'r_ws'  : GGParamter(1e-3),\n",
    "    'r_wp'  : GGParamter(1e-2)\n",
    "}\n",
    "\n",
    "cr = CalculateReward(3, 7, 100)"
   ]
  }
 ],
 "metadata": {
  "kernelspec": {
   "display_name": "Python 3",
   "language": "python",
   "name": "python3"
  },
  "language_info": {
   "codemirror_mode": {
    "name": "ipython",
    "version": 3
   },
   "file_extension": ".py",
   "mimetype": "text/x-python",
   "name": "python",
   "nbconvert_exporter": "python",
   "pygments_lexer": "ipython3",
   "version": "3.11.6"
  }
 },
 "nbformat": 4,
 "nbformat_minor": 2
}
