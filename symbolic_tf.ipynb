{
 "cells": [
  {
   "cell_type": "code",
   "execution_count": 1,
   "metadata": {},
   "outputs": [],
   "source": [
    "from sympy import *"
   ]
  },
  {
   "cell_type": "code",
   "execution_count": 36,
   "metadata": {},
   "outputs": [
    {
     "data": {
      "text/latex": [
       "$\\displaystyle \\frac{Cp M s^{2}}{Cp Cs Lp Ls s^{4} + Cp Cs Lp Rs s^{3} + Cp Cs Ls Rp s^{3} - Cp Cs M^{2} s^{4} + Cp Cs Rp Rs s^{2} + Cp Lp s^{2} + Cp Rp s + Cs Ls s^{2} + Cs Rs s + 1}$"
      ],
      "text/plain": [
       "Cp*M*s**2/(Cp*Cs*Lp*Ls*s**4 + Cp*Cs*Lp*Rs*s**3 + Cp*Cs*Ls*Rp*s**3 - Cp*Cs*M**2*s**4 + Cp*Cs*Rp*Rs*s**2 + Cp*Lp*s**2 + Cp*Rp*s + Cs*Ls*s**2 + Cs*Rs*s + 1)"
      ]
     },
     "execution_count": 36,
     "metadata": {},
     "output_type": "execute_result"
    }
   ],
   "source": [
    "i1, i2, i3 = symbols(\"i1 i2 i3\")\n",
    "vin, vout = symbols(\"vin vout\")\n",
    "\n",
    "Rp, Cp, Lp = symbols(\"Rp, Cp, Lp\")\n",
    "Rs, Cs, Ls = symbols(\"Rs, Cs, Ls\")\n",
    "\n",
    "M = symbols(\"M\")\n",
    "s = symbols(\"s\")\n",
    "\n",
    "Zp = 1/(s*Cp) + Rp + s*(Lp - M)\n",
    "Zs = 1/(s*Cs) + Rs + s*(Ls - M)\n",
    "Zm = s*M\n",
    "\n",
    "eq1 = vin - Zp*i1 - Zm*i2\n",
    "eq2 = Zm*i2 - i3*Zs\n",
    "eq3 = i1 - i2 - i3\n",
    "\n",
    "res = solve([eq1, eq2, eq3], [i1, i2, i3])\n",
    "i3_sol = res[i3]\n",
    "\n",
    "vout = i3_sol/(s*Cs)\n",
    "Tf = vout/vin\n",
    "\n",
    "Tf"
   ]
  }
 ],
 "metadata": {
  "kernelspec": {
   "display_name": "Python 3",
   "language": "python",
   "name": "python3"
  },
  "language_info": {
   "codemirror_mode": {
    "name": "ipython",
    "version": 3
   },
   "file_extension": ".py",
   "mimetype": "text/x-python",
   "name": "python",
   "nbconvert_exporter": "python",
   "pygments_lexer": "ipython3",
   "version": "3.11.6"
  }
 },
 "nbformat": 4,
 "nbformat_minor": 2
}
